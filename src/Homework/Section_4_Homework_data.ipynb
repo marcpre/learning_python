{
 "cells": [
  {
   "cell_type": "markdown",
   "metadata": {},
   "source": [
    "## Section 4 Homework data\n",
    "\n",
    "Dear Student,\n",
    "\n",
    "Welcome to the dataset for the homework exercise.\n",
    "\n",
    "**Instructions for this dataset:**\n",
    "\n",
    "You have only been supplied vectors. You will need to create the matrices yourself.\n",
    "\n",
    "Matrices:\n",
    " - FreeThrows\n",
    " - FreeThrowAttempts\n",
    "\n",
    "Sincerely,\n",
    "\n",
    "Kirill Eremenko\n",
    "\n",
    "[Super Data Science](http://www.superdatascience.com)\n",
    "\n",
    "Copyright: These datasets were prepared using publicly available data.\n",
    "           However, theses scripts are subject to Copyright Laws. \n",
    "           If you wish to use these R scripts outside of the R Programming Course\n",
    "           by Kirill Eremenko, you may do so by referencing www.superdatascience.com in your work.\n",
    "\n",
    "*Comments:*\n",
    "Seasons are labeled based on the first year in the season\n",
    "E.g. the 2012-2013 season is preseneted as simply 2012\n",
    "\n",
    "Notes and Corrections to the data:\n",
    " - Kevin Durant: 2006 - College Data Used\n",
    " - Kevin Durant: 2005 - Proxied With 2006 Data\n",
    " - Derrick Rose: 2012 - Did Not Play\n",
    " - Derrick Rose: 2007 - College Data Used\n",
    " - Derrick Rose: 2006 - Proxied With 2007 Data\n",
    " - Derrick Rose: 2005 - Proxied With 2007 Data"
   ]
  },
  {
   "cell_type": "code",
   "execution_count": 9,
   "metadata": {},
   "outputs": [],
   "source": [
    "#Seasons\n",
    "Seasons = [\"2005\",\"2006\",\"2007\",\"2008\",\"2009\",\"2010\",\"2011\",\"2012\",\"2013\",\"2014\"]\n",
    "\n",
    "#Players\n",
    "Players = [\"KobeBryant\",\"JoeJohnson\",\"LeBronJames\",\"CarmeloAnthony\",\"DwightHoward\",\"ChrisBosh\",\"ChrisPaul\",\"KevinDurant\",\"DerrickRose\",\"DwayneWade\"]\n",
    "\n",
    "#Free Throws\n",
    "KobeBryant_FT = [696,667,623,483,439,483,381,525,18,196]\n",
    "JoeJohnson_FT = [261,235,316,299,220,195,158,132,159,141]\n",
    "LeBronJames_FT = [601,489,549,594,593,503,387,403,439,375]\n",
    "CarmeloAnthony_FT = [573,459,464,371,508,507,295,425,459,189]\n",
    "DwightHoward_FT = [356,390,529,504,483,546,281,355,349,143]\n",
    "ChrisBosh_FT = [474,463,472,504,470,384,229,241,223,179]\n",
    "ChrisPaul_FT = [394,292,332,455,161,337,260,286,295,289]\n",
    "KevinDurant_FT = [209,209,391,452,756,594,431,679,703,146]\n",
    "DerrickRose_FT = [146,146,146,197,259,476,194,0,27,152]\n",
    "DwayneWade_FT = [629,432,354,590,534,494,235,308,189,284]\n",
    "\n",
    "#Matrix\n",
    "#\n",
    "# <put your code here>\n",
    "#\n",
    "\n",
    "#Free Throw Attempts\n",
    "KobeBryant_FTA = [819,768,742,564,541,583,451,626,21,241]\n",
    "JoeJohnson_FTA = [330,314,379,362,269,243,186,161,195,176]\n",
    "LeBronJames_FTA = [814,701,771,762,773,663,502,535,585,528]\n",
    "CarmeloAnthony_FTA = [709,568,590,468,612,605,367,512,541,237]\n",
    "DwightHoward_FTA = [598,666,897,849,816,916,572,721,638,271]\n",
    "ChrisBosh_FTA = [581,590,559,617,590,471,279,302,272,232]\n",
    "ChrisPaul_FTA = [465,357,390,524,190,384,302,323,345,321]\n",
    "KevinDurant_FTA = [256,256,448,524,840,675,501,750,805,171]\n",
    "DerrickRose_FTA = [205,205,205,250,338,555,239,0,32,187]\n",
    "DwayneWade_FTA = [803,535,467,771,702,652,297,425,258,370]\n",
    "\n",
    "#Matrix\n",
    "#\n",
    "# <put your code here>\n",
    "#"
   ]
  },
  {
   "cell_type": "code",
   "execution_count": 3,
   "metadata": {},
   "outputs": [],
   "source": [
    "import numpy as np\n",
    "import matplotlib.pyplot as plt"
   ]
  },
  {
   "cell_type": "code",
   "execution_count": 4,
   "metadata": {},
   "outputs": [],
   "source": [
    "#Seasons\n",
    "Sdict = {\"2005\":0,\"2006\":1,\"2007\":2,\"2008\":3,\"2009\":4,\"2010\":5,\"2011\":6,\"2012\":7,\"2013\":8,\"2014\":9}\n",
    "\n",
    "#Players\n",
    "Pdict = {\"KobeBryant\":0,\"JoeJohnson\":1,\"LeBronJames\":2,\"CarmeloAnthony\":3,\"DwightHoward\":4,\"ChrisBosh\":5,\"ChrisPaul\":6,\"KevinDurant\":7,\"DerrickRose\":8,\"DwayneWade\":9}\n"
   ]
  },
  {
   "cell_type": "code",
   "execution_count": 10,
   "metadata": {},
   "outputs": [],
   "source": [
    "# Free Throws\n",
    "FreeThrows = np.array([KobeBryant_FT, JoeJohnson_FT, LeBronJames_FT, CarmeloAnthony_FT, DwightHoward_FT, ChrisBosh_FT, ChrisPaul_FT, KevinDurant_FT, DerrickRose_FT, DwayneWade_FT])\n",
    "del (KobeBryant_FT, JoeJohnson_FT, LeBronJames_FT, CarmeloAnthony_FT, DwightHoward_FT, ChrisBosh_FT, ChrisPaul_FT, KevinDurant_FT, DerrickRose_FT, DwayneWade_FT)\n",
    "\n",
    "# Free Throw attempts\n",
    "FreeThrowAttempts = np.array([KobeBryant_FTA, JoeJohnson_FTA, LeBronJames_FTA, CarmeloAnthony_FTA, DwightHoward_FTA, ChrisBosh_FTA, ChrisPaul_FTA, KevinDurant_FTA, DerrickRose_FTA, DwayneWade_FTA])\n",
    "del (KobeBryant_FTA, JoeJohnson_FTA, LeBronJames_FTA, CarmeloAnthony_FTA, DwightHoward_FTA, ChrisBosh_FTA, ChrisPaul_FTA, KevinDurant_FTA, DerrickRose_FTA, DwayneWade_FTA)"
   ]
  },
  {
   "cell_type": "code",
   "execution_count": 12,
   "metadata": {},
   "outputs": [],
   "source": [
    "def myplot(data, playerlist = Players):\n",
    "    Col = {\"KobeBryant\":\"Black\",\"JoeJohnson\":\"Red\",\"LeBronJames\":\"Green\",\"CarmeloAnthony\":\"Blue\",\"DwightHoward\":\"Magenta\",\"ChrisBosh\":\"Black\",\"ChrisPaul\":\"Red\",\"KevinDurant\":\"Green\",\"DerrickRose\":\"Blue\",\"DwayneWade\":\"Magenta\"}\n",
    "    Mrk = {\"KobeBryant\":\"s\",\"JoeJohnson\":\"o\",\"LeBronJames\":\"^\",\"CarmeloAnthony\":\"D\",\"DwightHoward\":\"s\",\", marChrisBosh\":\"o\",\"ChrisPaul\":\"^\",\"KevinDurant\":\"D\",\"DerrickRose\":\"s\",\"DwayneWade\":\"o\"}\n",
    "    for name in playerlist:\n",
    "        plt.plot(data[Pdict[name]], c=Col[name], ls='--', marker=Mrk[name], ms=7, label=name)\n",
    "    plt.legend(loc=\"upper left\", bbox_to_anchor=(i,i))\n",
    "    plt.xticks(list(range(0,10)), Seasons, rotation='vertical')\n",
    "    plt.show()\n",
    "    "
   ]
  },
  {
   "cell_type": "code",
   "execution_count": 13,
   "metadata": {},
   "outputs": [
    {
     "ename": "KeyError",
     "evalue": "'ChrisBosh'",
     "output_type": "error",
     "traceback": [
      "\u001b[0;31m---------------------------------------------------------------------------\u001b[0m",
      "\u001b[0;31mKeyError\u001b[0m                                  Traceback (most recent call last)",
      "\u001b[0;32m<ipython-input-13-0d9a8d6d2cec>\u001b[0m in \u001b[0;36m<module>\u001b[0;34m()\u001b[0m\n\u001b[0;32m----> 1\u001b[0;31m \u001b[0mmyplot\u001b[0m\u001b[0;34m(\u001b[0m\u001b[0mFreeThrows\u001b[0m\u001b[0;34m)\u001b[0m\u001b[0;34m\u001b[0m\u001b[0m\n\u001b[0m",
      "\u001b[0;32m<ipython-input-12-659839d9b3f2>\u001b[0m in \u001b[0;36mmyplot\u001b[0;34m(data, playerlist)\u001b[0m\n\u001b[1;32m      3\u001b[0m     \u001b[0mMrk\u001b[0m \u001b[0;34m=\u001b[0m \u001b[0;34m{\u001b[0m\u001b[0;34m\"KobeBryant\"\u001b[0m\u001b[0;34m:\u001b[0m\u001b[0;34m\"s\"\u001b[0m\u001b[0;34m,\u001b[0m\u001b[0;34m\"JoeJohnson\"\u001b[0m\u001b[0;34m:\u001b[0m\u001b[0;34m\"o\"\u001b[0m\u001b[0;34m,\u001b[0m\u001b[0;34m\"LeBronJames\"\u001b[0m\u001b[0;34m:\u001b[0m\u001b[0;34m\"^\"\u001b[0m\u001b[0;34m,\u001b[0m\u001b[0;34m\"CarmeloAnthony\"\u001b[0m\u001b[0;34m:\u001b[0m\u001b[0;34m\"D\"\u001b[0m\u001b[0;34m,\u001b[0m\u001b[0;34m\"DwightHoward\"\u001b[0m\u001b[0;34m:\u001b[0m\u001b[0;34m\"s\"\u001b[0m\u001b[0;34m,\u001b[0m\u001b[0;34m\", marChrisBosh\"\u001b[0m\u001b[0;34m:\u001b[0m\u001b[0;34m\"o\"\u001b[0m\u001b[0;34m,\u001b[0m\u001b[0;34m\"ChrisPaul\"\u001b[0m\u001b[0;34m:\u001b[0m\u001b[0;34m\"^\"\u001b[0m\u001b[0;34m,\u001b[0m\u001b[0;34m\"KevinDurant\"\u001b[0m\u001b[0;34m:\u001b[0m\u001b[0;34m\"D\"\u001b[0m\u001b[0;34m,\u001b[0m\u001b[0;34m\"DerrickRose\"\u001b[0m\u001b[0;34m:\u001b[0m\u001b[0;34m\"s\"\u001b[0m\u001b[0;34m,\u001b[0m\u001b[0;34m\"DwayneWade\"\u001b[0m\u001b[0;34m:\u001b[0m\u001b[0;34m\"o\"\u001b[0m\u001b[0;34m}\u001b[0m\u001b[0;34m\u001b[0m\u001b[0m\n\u001b[1;32m      4\u001b[0m     \u001b[0;32mfor\u001b[0m \u001b[0mname\u001b[0m \u001b[0;32min\u001b[0m \u001b[0mplayerlist\u001b[0m\u001b[0;34m:\u001b[0m\u001b[0;34m\u001b[0m\u001b[0m\n\u001b[0;32m----> 5\u001b[0;31m         \u001b[0mplt\u001b[0m\u001b[0;34m.\u001b[0m\u001b[0mplot\u001b[0m\u001b[0;34m(\u001b[0m\u001b[0mdata\u001b[0m\u001b[0;34m[\u001b[0m\u001b[0mPdict\u001b[0m\u001b[0;34m[\u001b[0m\u001b[0mname\u001b[0m\u001b[0;34m]\u001b[0m\u001b[0;34m]\u001b[0m\u001b[0;34m,\u001b[0m \u001b[0mc\u001b[0m\u001b[0;34m=\u001b[0m\u001b[0mCol\u001b[0m\u001b[0;34m[\u001b[0m\u001b[0mname\u001b[0m\u001b[0;34m]\u001b[0m\u001b[0;34m,\u001b[0m \u001b[0mls\u001b[0m\u001b[0;34m=\u001b[0m\u001b[0;34m'--'\u001b[0m\u001b[0;34m,\u001b[0m \u001b[0mmarker\u001b[0m\u001b[0;34m=\u001b[0m\u001b[0mMrk\u001b[0m\u001b[0;34m[\u001b[0m\u001b[0mname\u001b[0m\u001b[0;34m]\u001b[0m\u001b[0;34m,\u001b[0m \u001b[0mms\u001b[0m\u001b[0;34m=\u001b[0m\u001b[0;36m7\u001b[0m\u001b[0;34m,\u001b[0m \u001b[0mlabel\u001b[0m\u001b[0;34m=\u001b[0m\u001b[0mname\u001b[0m\u001b[0;34m)\u001b[0m\u001b[0;34m\u001b[0m\u001b[0m\n\u001b[0m\u001b[1;32m      6\u001b[0m     \u001b[0mplt\u001b[0m\u001b[0;34m.\u001b[0m\u001b[0mlegend\u001b[0m\u001b[0;34m(\u001b[0m\u001b[0mloc\u001b[0m\u001b[0;34m=\u001b[0m\u001b[0;34m\"upper left\"\u001b[0m\u001b[0;34m,\u001b[0m \u001b[0mbbox_to_anchor\u001b[0m\u001b[0;34m=\u001b[0m\u001b[0;34m(\u001b[0m\u001b[0mi\u001b[0m\u001b[0;34m,\u001b[0m\u001b[0mi\u001b[0m\u001b[0;34m)\u001b[0m\u001b[0;34m)\u001b[0m\u001b[0;34m\u001b[0m\u001b[0m\n\u001b[1;32m      7\u001b[0m     \u001b[0mplt\u001b[0m\u001b[0;34m.\u001b[0m\u001b[0mxticks\u001b[0m\u001b[0;34m(\u001b[0m\u001b[0mlist\u001b[0m\u001b[0;34m(\u001b[0m\u001b[0mrange\u001b[0m\u001b[0;34m(\u001b[0m\u001b[0;36m0\u001b[0m\u001b[0;34m,\u001b[0m\u001b[0;36m10\u001b[0m\u001b[0;34m)\u001b[0m\u001b[0;34m)\u001b[0m\u001b[0;34m,\u001b[0m \u001b[0mSeasons\u001b[0m\u001b[0;34m,\u001b[0m \u001b[0mrotation\u001b[0m\u001b[0;34m=\u001b[0m\u001b[0;34m'vertical'\u001b[0m\u001b[0;34m)\u001b[0m\u001b[0;34m\u001b[0m\u001b[0m\n",
      "\u001b[0;31mKeyError\u001b[0m: 'ChrisBosh'"
     ]
    },
    {
     "data": {
      "image/png": "[encoded data removed]",
      "text/plain": [
       "<matplotlib.figure.Figure at 0x7f447e4da8d0>"
      ]
     },
     "metadata": {},
     "output_type": "display_data"
    }
   ],
   "source": [
    "myplot(FreeThrows)"
   ]
  },
  {
   "cell_type": "code",
   "execution_count": null,
   "metadata": {},
   "outputs": [],
   "source": []
  }
 ],
 "metadata": {
  "anaconda-cloud": {},
  "kernelspec": {
   "display_name": "Python 2",
   "language": "python",
   "name": "python2"
  },
  "language_info": {
   "codemirror_mode": {
    "name": "ipython",
    "version": 2
   },
   "file_extension": ".py",
   "mimetype": "text/x-python",
   "name": "python",
   "nbconvert_exporter": "python",
   "pygments_lexer": "ipython2",
   "version": "2.7.15"
  }
 },
 "nbformat": 4,
 "nbformat_minor": 1
}
